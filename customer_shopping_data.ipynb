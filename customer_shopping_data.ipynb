{
 "cells": [
  {
   "cell_type": "code",
   "execution_count": 49,
   "id": "ad46a69e-aa5d-414c-807c-8f076e4945dc",
   "metadata": {},
   "outputs": [
    {
     "data": {
      "text/html": [
       "<div>\n",
       "<style scoped>\n",
       "    .dataframe tbody tr th:only-of-type {\n",
       "        vertical-align: middle;\n",
       "    }\n",
       "\n",
       "    .dataframe tbody tr th {\n",
       "        vertical-align: top;\n",
       "    }\n",
       "\n",
       "    .dataframe thead th {\n",
       "        text-align: right;\n",
       "    }\n",
       "</style>\n",
       "<table border=\"1\" class=\"dataframe\">\n",
       "  <thead>\n",
       "    <tr style=\"text-align: right;\">\n",
       "      <th></th>\n",
       "      <th>invoice_no</th>\n",
       "      <th>customer_id</th>\n",
       "      <th>gender</th>\n",
       "      <th>age</th>\n",
       "      <th>category</th>\n",
       "      <th>quantity</th>\n",
       "      <th>price</th>\n",
       "      <th>payment_method</th>\n",
       "      <th>invoice_date</th>\n",
       "      <th>shopping_mall</th>\n",
       "    </tr>\n",
       "  </thead>\n",
       "  <tbody>\n",
       "    <tr>\n",
       "      <th>0</th>\n",
       "      <td>I138884</td>\n",
       "      <td>C241288</td>\n",
       "      <td>Female</td>\n",
       "      <td>28</td>\n",
       "      <td>Clothing</td>\n",
       "      <td>5</td>\n",
       "      <td>1500.40</td>\n",
       "      <td>Credit Card</td>\n",
       "      <td>5/8/2022</td>\n",
       "      <td>Kanyon</td>\n",
       "    </tr>\n",
       "    <tr>\n",
       "      <th>1</th>\n",
       "      <td>I317333</td>\n",
       "      <td>C111565</td>\n",
       "      <td>Male</td>\n",
       "      <td>21</td>\n",
       "      <td>Shoes</td>\n",
       "      <td>3</td>\n",
       "      <td>1800.51</td>\n",
       "      <td>Debit Card</td>\n",
       "      <td>12/12/2021</td>\n",
       "      <td>Forum Istanbul</td>\n",
       "    </tr>\n",
       "    <tr>\n",
       "      <th>2</th>\n",
       "      <td>I127801</td>\n",
       "      <td>C266599</td>\n",
       "      <td>Male</td>\n",
       "      <td>20</td>\n",
       "      <td>Clothing</td>\n",
       "      <td>1</td>\n",
       "      <td>300.08</td>\n",
       "      <td>Cash</td>\n",
       "      <td>9/11/2021</td>\n",
       "      <td>Metrocity</td>\n",
       "    </tr>\n",
       "    <tr>\n",
       "      <th>3</th>\n",
       "      <td>I173702</td>\n",
       "      <td>C988172</td>\n",
       "      <td>Female</td>\n",
       "      <td>66</td>\n",
       "      <td>Shoes</td>\n",
       "      <td>5</td>\n",
       "      <td>3000.85</td>\n",
       "      <td>Credit Card</td>\n",
       "      <td>16/05/2021</td>\n",
       "      <td>Metropol AVM</td>\n",
       "    </tr>\n",
       "    <tr>\n",
       "      <th>4</th>\n",
       "      <td>I337046</td>\n",
       "      <td>C189076</td>\n",
       "      <td>Female</td>\n",
       "      <td>53</td>\n",
       "      <td>Books</td>\n",
       "      <td>4</td>\n",
       "      <td>60.60</td>\n",
       "      <td>Cash</td>\n",
       "      <td>24/10/2021</td>\n",
       "      <td>Kanyon</td>\n",
       "    </tr>\n",
       "  </tbody>\n",
       "</table>\n",
       "</div>"
      ],
      "text/plain": [
       "  invoice_no customer_id  gender  age  category  quantity    price  \\\n",
       "0    I138884     C241288  Female   28  Clothing         5  1500.40   \n",
       "1    I317333     C111565    Male   21     Shoes         3  1800.51   \n",
       "2    I127801     C266599    Male   20  Clothing         1   300.08   \n",
       "3    I173702     C988172  Female   66     Shoes         5  3000.85   \n",
       "4    I337046     C189076  Female   53     Books         4    60.60   \n",
       "\n",
       "  payment_method invoice_date   shopping_mall  \n",
       "0    Credit Card     5/8/2022          Kanyon  \n",
       "1     Debit Card   12/12/2021  Forum Istanbul  \n",
       "2           Cash    9/11/2021       Metrocity  \n",
       "3    Credit Card   16/05/2021    Metropol AVM  \n",
       "4           Cash   24/10/2021          Kanyon  "
      ]
     },
     "execution_count": 49,
     "metadata": {},
     "output_type": "execute_result"
    }
   ],
   "source": [
    "from dash import Dash, dcc, html\n",
    "import pandas as pd\n",
    "import plotly.express as px\n",
    "\n",
    "# Load the CSV file\n",
    "file_path = r\"C:\\Users\\User\\Downloads\\archive (4)\\customer_shopping_data.csv\"\n",
    "data = pd.read_csv(file_path)\n",
    "data.head()"
   ]
  },
  {
   "cell_type": "code",
   "execution_count": 41,
   "id": "b8f66f6a-1782-4af6-9315-a7296625d52c",
   "metadata": {},
   "outputs": [
    {
     "name": "stdout",
     "output_type": "stream",
     "text": [
      "          category        price\n",
      "0            Books    226977.30\n",
      "1         Clothing  31075684.64\n",
      "2        Cosmetics   1848606.90\n",
      "3  Food & Beverage    231568.71\n",
      "4            Shoes  18135336.89\n",
      "5         Souvenir    174436.83\n",
      "6       Technology  15772050.00\n",
      "7             Toys   1086704.64\n",
      "   gender        price\n",
      "0  Female  40931801.62\n",
      "1    Male  27619564.29\n",
      "  payment_method        price\n",
      "0           Cash  30705030.98\n",
      "1    Credit Card  24051476.93\n",
      "2     Debit Card  13794858.00\n"
     ]
    }
   ],
   "source": [
    "print(data.groupby('category')['price'].sum().reset_index())\n",
    "print(data.groupby('gender')['price'].sum().reset_index())\n",
    "print(data.groupby('payment_method')['price'].sum().reset_index())"
   ]
  },
  {
   "cell_type": "code",
   "execution_count": 43,
   "id": "1cdb7488-1107-4ae0-ab12-10265604df24",
   "metadata": {},
   "outputs": [
    {
     "name": "stdout",
     "output_type": "stream",
     "text": [
      "Unique months: <PeriodArray>\n",
      "['2022-08', '2021-12', '2021-11', '2021-05', '2021-10', '2022-05', '2022-03',\n",
      " '2021-01', '2021-08', '2022-12', '2022-10', '2022-07', '2022-11', '2022-06',\n",
      " '2022-01', '2021-07', '2023-03', '2023-02', '2022-04', '2021-04', '2022-02',\n",
      " '2023-01', '2021-09', '2021-06', '2021-03', '2021-02', '2022-09']\n",
      "Length: 27, dtype: period[M]\n",
      "      month       price\n",
      "0   2021-01  2656422.78\n",
      "1   2021-02  2358636.34\n",
      "2   2021-03  2618434.14\n",
      "3   2021-04  2558825.62\n",
      "4   2021-05  2662369.93\n",
      "5   2021-06  2547239.73\n",
      "6   2021-07  2802468.58\n",
      "7   2021-08  2632303.32\n",
      "8   2021-09  2530305.88\n",
      "9   2021-10  2782418.40\n",
      "10  2021-11  2547152.35\n",
      "11  2021-12  2619727.56\n",
      "12  2022-01  2656149.96\n",
      "13  2022-02  2318201.08\n",
      "14  2022-03  2705190.76\n",
      "15  2022-04  2543653.14\n",
      "16  2022-05  2684556.89\n",
      "17  2022-06  2613106.01\n",
      "18  2022-07  2749554.99\n",
      "19  2022-08  2638238.71\n",
      "20  2022-09  2584908.39\n",
      "21  2022-10  2755839.69\n",
      "22  2022-11  2447988.76\n",
      "23  2022-12  2675437.80\n",
      "24  2023-01  2620053.89\n",
      "25  2023-02  2558459.90\n",
      "26  2023-03   683721.31\n"
     ]
    }
   ],
   "source": [
    "# Ensure invoice_date is parsed as datetime\n",
    "data['invoice_date'] = pd.to_datetime(data['invoice_date'], dayfirst=True, errors='coerce')\n",
    "\n",
    "# Check for parsing errors\n",
    "if data['invoice_date'].isnull().any():\n",
    "    print(\"Warning: Some dates could not be parsed. Check the data for invalid formats.\")\n",
    "\n",
    "# Create the 'month' column\n",
    "data['month'] = data['invoice_date'].dt.to_period('M')\n",
    "\n",
    "# Debugging: Print the unique values in 'month'\n",
    "print(\"Unique months:\", data['month'].unique())\n",
    "\n",
    "# Group by 'month' and calculate total sales\n",
    "monthly_sales = data.groupby('month')['price'].sum().reset_index()\n",
    "print(monthly_sales)"
   ]
  },
  {
   "cell_type": "code",
   "execution_count": 45,
   "id": "aab11fce-90af-4271-be9b-f1bb29a56424",
   "metadata": {},
   "outputs": [],
   "source": [
    "app.layout = html.Div([\n",
    "    html.H1(\"Test Dashboard\", style={'text-align': 'center'}),\n",
    "    html.Div(\"This is a test layout to debug the error.\")\n",
    "])\n"
   ]
  },
  {
   "cell_type": "code",
   "execution_count": 47,
   "id": "27dc4888-b595-4400-aa1d-bb906e51ed9f",
   "metadata": {},
   "outputs": [
    {
     "data": {
      "text/html": [
       "\n",
       "        <iframe\n",
       "            width=\"100%\"\n",
       "            height=\"650\"\n",
       "            src=\"http://127.0.0.1:8060/\"\n",
       "            frameborder=\"0\"\n",
       "            allowfullscreen\n",
       "            \n",
       "        ></iframe>\n",
       "        "
      ],
      "text/plain": [
       "<IPython.lib.display.IFrame at 0x240a4fbe010>"
      ]
     },
     "metadata": {},
     "output_type": "display_data"
    }
   ],
   "source": [
    "try:\n",
    "  \n",
    "    data['invoice_date'] = pd.to_datetime(data['invoice_date'], dayfirst=True)\n",
    "    data['month'] = data['invoice_date'].dt.to_period('M')\n",
    "\n",
    "    # Aggregated data\n",
    "    category_sales = data.groupby('category')['price'].sum().reset_index()\n",
    "    gender_sales = data.groupby('gender')['price'].sum().reset_index()\n",
    "except Exception as e:\n",
    "    print(\"Error loading or processing data:\", e)\n",
    "    category_sales = pd.DataFrame({'category': [], 'price': []})\n",
    "    gender_sales = pd.DataFrame({'gender': [], 'price': []})\n",
    "\n",
    "# Initialize app\n",
    "app = Dash(__name__)\n",
    "\n",
    "# Define layout\n",
    "app.layout = html.Div([\n",
    "    html.H1(\"Debug Dashboard\", style={'text-align': 'center'}),\n",
    "    dcc.Graph(\n",
    "        id='category-sales',\n",
    "        figure=px.bar(category_sales, x='category', y='price', title=\"Sales by Category\")\n",
    "    ),\n",
    "    dcc.Graph(\n",
    "        id='gender-sales',\n",
    "        figure=px.pie(gender_sales, names='gender', values='price', title=\"Sales by Gender\")\n",
    "    )\n",
    "])\n",
    "\n",
    "# Run the app\n",
    "if __name__ == '__main__':\n",
    "    app.run_server(debug=True, port=8060)\n"
   ]
  },
  {
   "cell_type": "code",
   "execution_count": null,
   "id": "447f8444-68a2-4d73-8fcd-45060b9d59ee",
   "metadata": {},
   "outputs": [],
   "source": []
  }
 ],
 "metadata": {
  "kernelspec": {
   "display_name": "Python 3 (ipykernel)",
   "language": "python",
   "name": "python3"
  },
  "language_info": {
   "codemirror_mode": {
    "name": "ipython",
    "version": 3
   },
   "file_extension": ".py",
   "mimetype": "text/x-python",
   "name": "python",
   "nbconvert_exporter": "python",
   "pygments_lexer": "ipython3",
   "version": "3.11.7"
  },
  "widgets": {
   "application/vnd.jupyter.widget-state+json": {
    "state": {},
    "version_major": 2,
    "version_minor": 0
   }
  }
 },
 "nbformat": 4,
 "nbformat_minor": 5
}
